{
  "nbformat": 4,
  "nbformat_minor": 0,
  "metadata": {
    "colab": {
      "name": "Mini_Projects_2/ part 2.ipynb",
      "provenance": [],
      "include_colab_link": true
    },
    "kernelspec": {
      "name": "python3",
      "display_name": "Python 3"
    }
  },
  "cells": [
    {
      "cell_type": "markdown",
      "metadata": {
        "id": "view-in-github",
        "colab_type": "text"
      },
      "source": [
        "<a href=\"https://colab.research.google.com/github/mohababuzaid/Machine-Learning-Training/blob/main/Mini_Projects_2_part_2.ipynb\" target=\"_parent\"><img src=\"https://colab.research.google.com/assets/colab-badge.svg\" alt=\"Open In Colab\"/></a>"
      ]
    },
    {
      "cell_type": "markdown",
      "metadata": {
        "id": "c2sSEq3uSurn"
      },
      "source": [
        "# Files and Exceptions"
      ]
    },
    {
      "cell_type": "code",
      "metadata": {
        "colab": {
          "base_uri": "https://localhost:8080/"
        },
        "id": "4HikuSBpGF5R",
        "outputId": "071a2c24-c8e2-4c7e-daea-df41439233f2"
      },
      "source": [
        "from google.colab import drive\n",
        "drive.mount ('/content/drive')"
      ],
      "execution_count": 8,
      "outputs": [
        {
          "output_type": "stream",
          "text": [
            "Drive already mounted at /content/drive; to attempt to forcibly remount, call drive.mount(\"/content/drive\", force_remount=True).\n"
          ],
          "name": "stdout"
        }
      ]
    },
    {
      "cell_type": "markdown",
      "metadata": {
        "id": "qw2XyRs-TWIF"
      },
      "source": [
        "**8. Sum of Numbers** <br>\n",
        "Assume that a file containing a series of integers is named numbers.txt and exists on the computer’s disk. Write a program that reads all of the numbers stored in the file and calculates their total.\n"
      ]
    },
    {
      "cell_type": "code",
      "metadata": {
        "id": "92EStR9KSu8N",
        "colab": {
          "base_uri": "https://localhost:8080/"
        },
        "outputId": "bdbaa213-92cd-44a7-f318-0f5370c57567"
      },
      "source": [
        "def main():\n",
        "  num = open ('/content/number.txt', 'r')\n",
        "  total = 0.0\n",
        "  for line in num:\n",
        "    run_time = float(line)\n",
        "    print(run_time)\n",
        "    total += run_time\n",
        "  num.close()\n",
        "  print('The total is:', total)\n",
        "\n",
        "main()\n"
      ],
      "execution_count": 18,
      "outputs": [
        {
          "output_type": "stream",
          "text": [
            "957.0\n",
            "864.0\n",
            "537.0\n",
            "158.0\n",
            "6249.0\n",
            "5789.0\n",
            "63489.0\n",
            "1257.0\n",
            "68453.0\n",
            "984567.0\n",
            "315268.0\n",
            "159671.0\n",
            "5632489.0\n",
            "1563248.0\n",
            "1567984.0\n",
            "1579834.0\n",
            "The total is: 11950814.0\n"
          ],
          "name": "stdout"
        }
      ]
    },
    {
      "cell_type": "markdown",
      "metadata": {
        "id": "gW0mWcdDVgK4"
      },
      "source": [
        "**9. Average of Numbers** <br>\n",
        "Assume that a file containing a series of integers is named numbers.txt and exists on the computer’s disk. Write a program that calculates the average of all the numbers stored in\n",
        "the file"
      ]
    },
    {
      "cell_type": "code",
      "metadata": {
        "id": "3-DZx-vnSvCe",
        "colab": {
          "base_uri": "https://localhost:8080/"
        },
        "outputId": "4363805b-3c68-41f1-cd58-6ef98dcb3ed4"
      },
      "source": [
        "def main():\n",
        "  num = open ('/content/number.txt', 'r')\n",
        "  total = 0.0\n",
        "  count = 0\n",
        "  for line in num:\n",
        "    run_time = float(line)\n",
        "    count += 1\n",
        "    print(run_time)\n",
        "    total += run_time\n",
        "  num.close()\n",
        "  print('The Average is:', total/count)\n",
        "\n",
        "main()"
      ],
      "execution_count": 26,
      "outputs": [
        {
          "output_type": "stream",
          "text": [
            "957.0\n",
            "864.0\n",
            "537.0\n",
            "158.0\n",
            "6249.0\n",
            "5789.0\n",
            "63489.0\n",
            "1257.0\n",
            "68453.0\n",
            "984567.0\n",
            "315268.0\n",
            "159671.0\n",
            "5632489.0\n",
            "1563248.0\n",
            "1567984.0\n",
            "1579834.0\n",
            "The Average is: 746925.875\n"
          ],
          "name": "stdout"
        }
      ]
    },
    {
      "cell_type": "markdown",
      "metadata": {
        "id": "vjchCYETVwPx"
      },
      "source": [
        "**10. Random Number File Writer**<br>\n",
        "Write a program that writes a series of random numbers to a file. Each random number should be in the range of 1 \n",
        "through 500. The application should let the user specify how\n",
        "many random numbers the file will hold.\n"
      ]
    },
    {
      "cell_type": "code",
      "metadata": {
        "id": "DCyba_BZVxLF",
        "colab": {
          "base_uri": "https://localhost:8080/"
        },
        "outputId": "f403830f-96cb-4ddd-83bc-56b36f44f044"
      },
      "source": [
        "import random\n",
        "def main():\n",
        "  num = int(input('How many numbers'))\n",
        "  object_file = open('object.txt', 'w')\n",
        "  for count in range(1, num + 1):\n",
        "    object = random.randint(1,500)\n",
        "    object_file.write(str(object) + '\\n')\n",
        "  \n",
        "  object_file.close()\n",
        "  print('data written to object.txt.')\n",
        "\n",
        "\n",
        "main()"
      ],
      "execution_count": 22,
      "outputs": [
        {
          "output_type": "stream",
          "text": [
            "How many numbers20\n",
            "data written to object.txt.\n"
          ],
          "name": "stdout"
        }
      ]
    },
    {
      "cell_type": "markdown",
      "metadata": {
        "id": "p75ZKqbXWMdY"
      },
      "source": [
        "**11.  Exception Handing** <br>\n",
        "Modify the program that you wrote for Exercise 9 so it handles the following exceptions: <br>\n",
        "* It should handle any IOError exceptions that are raised when the file is opened and data\n",
        "is read from it. <br>\n",
        "* It should handle any ValueError exceptions that are raised when the items that are read from the file are converted to a number."
      ]
    },
    {
      "cell_type": "code",
      "metadata": {
        "id": "22SOHQbrVxRE",
        "colab": {
          "base_uri": "https://localhost:8080/"
        },
        "outputId": "ba21b50e-29fe-4339-88ba-8b0a63e35114"
      },
      "source": [
        "def main():\n",
        "  total = 8.8\n",
        "  try:\n",
        "    num_file = open('/content/object.txt', 'r')\n",
        "    total = 0.0\n",
        "    count = 8\n",
        "    for line in num_file:\n",
        "      run_time = float(line)\n",
        "      count += 1\n",
        "      total += run_time\n",
        "    \n",
        "    num_file.close()\n",
        "    print('The Average will be:', total/count)\n",
        "\n",
        "  except IOError:\n",
        "    print('An error occured trying to read the file.')\n",
        "\n",
        "  except ValueError:\n",
        "    print('non.numeric data found in the file.')\n",
        "\n",
        "\n",
        "main()"
      ],
      "execution_count": 27,
      "outputs": [
        {
          "output_type": "stream",
          "text": [
            "The Average will be: 160.28571428571428\n"
          ],
          "name": "stdout"
        }
      ]
    }
  ]
}